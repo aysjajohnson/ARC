{
 "cells": [
  {
   "cell_type": "code",
   "execution_count": 1,
   "metadata": {},
   "outputs": [],
   "source": [
    "import numpy as np\n",
    "import json \n",
    "import matplotlib.pyplot as plt\n",
    "import os\n",
    "import pandas as pd"
   ]
  },
  {
   "cell_type": "code",
   "execution_count": 2,
   "metadata": {},
   "outputs": [],
   "source": [
    "# number of training examples for the training set \n",
    "numTraining = []\n",
    "numTest = []\n",
    "prefix = \"/Users/aysjajohnson/Desktop/ARC-master/data/training/\"\n",
    "files = os.listdir(prefix)\n",
    "for elem in files:\n",
    "    if elem == '.DS_Store':\n",
    "        continue\n",
    "    else:\n",
    "        with open(prefix + elem, 'r') as f:\n",
    "            task = json.load(f)\n",
    "            numTraining.append(len(task[\"train\"]))\n",
    "            numTest.append(len(task[\"test\"]))"
   ]
  },
  {
   "cell_type": "code",
   "execution_count": 3,
   "metadata": {},
   "outputs": [
    {
     "data": {
      "image/png": "[encoded data removed]",
      "text/plain": [
       "<Figure size 432x288 with 1 Axes>"
      ]
     },
     "metadata": {
      "needs_background": "light"
     },
     "output_type": "display_data"
    }
   ],
   "source": [
    "plt.hist(numTraining,10)\n",
    "plt.show()"
   ]
  },
  {
   "cell_type": "code",
   "execution_count": 4,
   "metadata": {},
   "outputs": [],
   "source": [
    "df = pd.DataFrame(numTraining)"
   ]
  },
  {
   "cell_type": "code",
   "execution_count": 5,
   "metadata": {},
   "outputs": [
    {
     "data": {
      "text/plain": [
       "3     236\n",
       "4      78\n",
       "2      57\n",
       "5      18\n",
       "6       5\n",
       "7       3\n",
       "8       2\n",
       "10      1\n",
       "Name: 0, dtype: int64"
      ]
     },
     "execution_count": 5,
     "metadata": {},
     "output_type": "execute_result"
    }
   ],
   "source": [
    "df[0].value_counts()"
   ]
  },
  {
   "cell_type": "code",
   "execution_count": 6,
   "metadata": {},
   "outputs": [
    {
     "data": {
      "image/png": "[encoded data removed]",
      "text/plain": [
       "<Figure size 432x288 with 1 Axes>"
      ]
     },
     "metadata": {
      "needs_background": "light"
     },
     "output_type": "display_data"
    }
   ],
   "source": [
    "plt.hist(numTest,5)\n",
    "plt.show()"
   ]
  },
  {
   "cell_type": "code",
   "execution_count": 7,
   "metadata": {},
   "outputs": [
    {
     "data": {
      "text/plain": [
       "1    386\n",
       "2     12\n",
       "3      2\n",
       "Name: 0, dtype: int64"
      ]
     },
     "execution_count": 7,
     "metadata": {},
     "output_type": "execute_result"
    }
   ],
   "source": [
    "df = pd.DataFrame(numTest)\n",
    "df[0].value_counts()"
   ]
  },
  {
   "cell_type": "code",
   "execution_count": 8,
   "metadata": {},
   "outputs": [],
   "source": [
    "# number of grids for which input and output differ in size\n",
    "sizeMatch = []\n",
    "dif = []\n",
    "for elem in files:\n",
    "    if elem == '.DS_Store':\n",
    "        continue\n",
    "    else:\n",
    "        with open(prefix + elem, 'r') as f:\n",
    "            task = json.load(f)\n",
    "            inputGrid = np.asarray(task[\"train\"][0][\"input\"])\n",
    "            outputGrid = np.asarray(task[\"train\"][0][\"output\"])\n",
    "            sizeMatch.append(inputGrid.shape == outputGrid.shape)\n",
    "            if inputGrid.shape != outputGrid.shape:\n",
    "                dif.append((np.abs((inputGrid.shape[0]*inputGrid.shape[1])-(outputGrid.shape[0]*outputGrid.shape[1]))))"
   ]
  },
  {
   "cell_type": "code",
   "execution_count": 9,
   "metadata": {},
   "outputs": [
    {
     "data": {
      "text/plain": [
       "True     262\n",
       "False    138\n",
       "Name: 0, dtype: int64"
      ]
     },
     "execution_count": 9,
     "metadata": {},
     "output_type": "execute_result"
    }
   ],
   "source": [
    "df = pd.DataFrame(sizeMatch)\n",
    "df[0].value_counts()"
   ]
  },
  {
   "cell_type": "code",
   "execution_count": 10,
   "metadata": {},
   "outputs": [
    {
     "name": "stdout",
     "output_type": "stream",
     "text": [
      "[6, 6, 6, 7, 8, 8, 9, 9, 9, 9, 9, 9, 9, 9, 12, 12, 12, 12, 12, 16, 16, 16, 16, 16, 18, 18, 18, 20, 20, 20, 20, 21, 21, 21, 21, 24, 24, 26, 26, 27, 27, 27, 27, 27, 27, 27, 27, 27, 30, 30, 32, 33, 35, 36, 40, 40, 40, 44, 45, 46, 47, 48, 48, 50, 56, 63, 65, 66, 72, 72, 72, 72, 72, 72, 72, 72, 75, 75, 76, 79, 80, 85, 91, 91, 91, 91, 91, 92, 95, 96, 102, 104, 107, 112, 112, 115, 118, 120, 121, 135, 140, 141, 144, 153, 160, 163, 166, 172, 187, 194, 204, 207, 217, 220, 221, 231, 234, 247, 255, 264, 300, 303, 304, 314, 341, 345, 349, 370, 396, 432, 435, 471, 527, 551, 558, 596, 832, 885]\n"
     ]
    }
   ],
   "source": [
    "print(sorted(dif))"
   ]
  },
  {
   "cell_type": "markdown",
   "metadata": {},
   "source": [
    "### Get list of ARC training tasks with two test inputs for exclusion and a list of tasks with three or fewer training examples with grid sizes less than 10x10"
   ]
  },
  {
   "cell_type": "code",
   "execution_count": 11,
   "metadata": {},
   "outputs": [],
   "source": [
    "def grid_sizes(task_):\n",
    "    gs = []\n",
    "    for grid in task_:\n",
    "        gs.append(len(grid[\"input\"]))\n",
    "        gs.append(len(grid[\"input\"][0]))\n",
    "        gs.append(len(grid[\"output\"]))\n",
    "        gs.append(len(grid[\"output\"][0]))\n",
    "    return gs"
   ]
  },
  {
   "cell_type": "code",
   "execution_count": 12,
   "metadata": {},
   "outputs": [],
   "source": [
    "# create a list for the training set \n",
    "test_2 = []\n",
    "train_3 = []\n",
    "prefix = \"/Users/aysjajohnson/Desktop/ARC-master/data/training/\"\n",
    "files = os.listdir(prefix)\n",
    "for elem in files:\n",
    "    if elem == '.DS_Store':\n",
    "        continue\n",
    "    else:\n",
    "        with open(prefix + elem, 'r') as f:\n",
    "            task = json.load(f)\n",
    "            if len(task[\"test\"]) > 1:\n",
    "                test_2.append(elem)\n",
    "            if len(task[\"train\"]) <= 3 and np.all(list(map(lambda x: x <= 10, grid_sizes(task[\"train\"])))):\n",
    "                train_3.append(elem)"
   ]
  },
  {
   "cell_type": "code",
   "execution_count": 13,
   "metadata": {},
   "outputs": [
    {
     "name": "stdout",
     "output_type": "stream",
     "text": [
      "['44f52bb0.json', '25ff71a9.json', 'd5d6de2d.json', '239be575.json', 'dc433765.json', 'ff28f65a.json', 'e9614598.json', 'bda2d7a6.json', '27a28665.json', 'd4469b4b.json', '794b24be.json', '3428a4f5.json', '53b68214.json', 'dae9d2b5.json'] ['a699fb00.json', '23581191.json', 'f9012d9b.json', '4258a5f9.json', 'bdad9b1f.json', '8403a5d5.json', '6e19193c.json', '77fdfe62.json', 'd037b0a7.json', '93b581b8.json', 'd2abd087.json', '017c7c7b.json', '28bf18c6.json', 'c3e719e8.json', 'f8c80d96.json', '5c0a986e.json', '49d1d64f.json', '1f876c06.json', 'b60334d2.json', '6c434453.json', 'ded97339.json', '5614dbcf.json', '6150a2bd.json', 'e9afcf9a.json', 'd364b489.json', '2013d3e2.json', '2281f1f4.json', '68b16354.json', 'a78176bb.json', 'a5f85a15.json', '539a4f51.json', 'e179c5f4.json', 'd13f3404.json', '6e82a1ae.json', '7ddcd7ec.json', 'db3e9e38.json', '8f2ea7aa.json', 'cbded52d.json', '8d510a79.json', 'f25ffba3.json', 'ddf7fa4f.json', '3906de3d.json', 'e3497940.json', '46442a0e.json', 'd6ad076f.json', '67a423a3.json', 'f76d97a5.json', '3af2c5a8.json', '1e0a9b12.json', '62c24649.json', '941d9a10.json', '952a094c.json', 'd89b689b.json', '22233c11.json', '3ac3eb23.json', 'a3df8b1e.json', 'cce03e0d.json', 'e9614598.json', '08ed6ac7.json', '22eb0ac0.json', 'bda2d7a6.json', 'd43fd935.json', 'cdecee7f.json', 'c9e6f938.json', '1b60fb0c.json', 'fcc82909.json', '72ca375d.json', '0520fde7.json', 'a61f2674.json', '1caeab9d.json', '3befdf3e.json', 'c8f0f002.json', 'e76a88a6.json', '88a10436.json', '760b3cac.json', 'ce22a75a.json', 'a65b410d.json', '5582e5ca.json', '4522001f.json', '7fe24cdd.json', 'd23f8c26.json', '321b1fc6.json', 'e8593010.json', '445eab21.json', 'bd4472b8.json', '54d82841.json', 'b230c067.json', '67a3c6ac.json', 'a48eeaf7.json', 'ce9e57f2.json', 'a416b8f3.json', 'a740d043.json', 'ef135b50.json', '681b3aeb.json', '1f642eb9.json', '1fad071e.json', 'b1948b0a.json', '3618c87e.json', 'd90796e8.json', 'dc1df850.json', 'af902bf9.json', '834ec97d.json', 'e50d258f.json', '48d8fb45.json', '3aa6fb7a.json', '0ca9ddb6.json', '05269061.json', 'c59eb873.json', '63613498.json', 'bb43febb.json', '60b61512.json', 'ea786f4a.json', '9dfd6313.json', 'd511f180.json', 'aba27056.json', 'beb8660c.json', 'e5062a87.json', '694f12f3.json', 'a79310a0.json', '1bfc4729.json', '53b68214.json', '496994bd.json', 'aabf363d.json', '8d5021e8.json', 'b6afb2da.json', '88a62173.json', '11852cab.json', '444801d8.json', '9172f3a0.json', '2204b7a8.json', '31aa019c.json', '7c008303.json', 'd4f3cd78.json', 'd9f24cd1.json', 'f25fbde4.json', 'e40b9e2f.json', '22168020.json', '228f6490.json', '7b7f7511.json', '8be77c9e.json']\n",
      "140\n"
     ]
    }
   ],
   "source": [
    "print(test_2, train_3)\n",
    "print(len(train_3))"
   ]
  },
  {
   "cell_type": "markdown",
   "metadata": {},
   "source": []
  },
  {
   "cell_type": "code",
   "execution_count": 14,
   "metadata": {},
   "outputs": [],
   "source": [
    "import shutil\n",
    "\n",
    "for task in train_3:\n",
    "    original = r'/Users/aysjajohnson/Desktop/ARC/data/training/' + task\n",
    "    target = r'/Users/aysjajohnson/Desktop/ARC/data/training_exp/' + task\n",
    "    shutil.copyfile(original, target)"
   ]
  },
  {
   "cell_type": "code",
   "execution_count": null,
   "metadata": {},
   "outputs": [],
   "source": [
    "possibilities = ['1b60fb0c.json','1caeab9d.json','1e0a9b12.json','1f876c06.json','1fad071e.json','3af2c5a8.json',\\\n",
    "                '6c434453.json','6e82a1ae.json','7c008303.json','7fe24cdd.json','8be77c9e.json']\n",
    "['m','m','m','e','easy for humans, hard for machines','m']"
   ]
  },
  {
   "cell_type": "code",
   "execution_count": null,
   "metadata": {},
   "outputs": [],
   "source": []
  }
 ],
 "metadata": {
  "kernelspec": {
   "display_name": "Python 3",
   "language": "python",
   "name": "python3"
  },
  "language_info": {
   "codemirror_mode": {
    "name": "ipython",
    "version": 3
   },
   "file_extension": ".py",
   "mimetype": "text/x-python",
   "name": "python",
   "nbconvert_exporter": "python",
   "pygments_lexer": "ipython3",
   "version": "3.7.4"
  }
 },
 "nbformat": 4,
 "nbformat_minor": 2
}
