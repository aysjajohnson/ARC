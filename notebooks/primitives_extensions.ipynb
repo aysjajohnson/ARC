{
 "cells": [
  {
   "cell_type": "code",
   "execution_count": 116,
   "metadata": {},
   "outputs": [],
   "source": [
    "import numpy as np\n",
    "import pandas as pd\n",
    "\n",
    "import os\n",
    "import json\n",
    "from collections import Counter\n",
    "\n",
    "import matplotlib.pyplot as plt\n",
    "from matplotlib import colors\n",
    "import numpy as np"
   ]
  },
  {
   "cell_type": "code",
   "execution_count": 2,
   "metadata": {},
   "outputs": [
    {
     "name": "stdout",
     "output_type": "stream",
     "text": [
      "dict_keys(['train', 'test'])\n"
     ]
    }
   ],
   "source": [
    "training_path = '../data/training'\n",
    "task_file = os.path.join(training_path, '0520fde7.json')\n",
    "\n",
    "with open(task_file, 'r') as f:\n",
    "    task = json.load(f)\n",
    "\n",
    "print(task.keys())"
   ]
  },
  {
   "cell_type": "code",
   "execution_count": 3,
   "metadata": {},
   "outputs": [],
   "source": [
    "# specify colors\n",
    "cmap = colors.ListedColormap(\n",
    "    ['#000000', '#0074D9','#FF4136','#2ECC40','#FFDC00',\n",
    "     '#AAAAAA', '#F012BE', '#FF851B', '#7FDBFF', '#870C25'])\n",
    "\n",
    "black = 0\n",
    "blue = 1\n",
    "red = 2\n",
    "green = 3\n",
    "yellow = 4\n",
    "grey = 5\n",
    "magenta = 6\n",
    "orange = 7\n",
    "light_blue = 8\n",
    "maroon = 9\n",
    "\n",
    "def plot_task(task):\n",
    "    \"\"\"\n",
    "    Plots the first train and test pairs of a specified task,\n",
    "    using same color scheme as the ARC app\n",
    "    \"\"\"\n",
    "    norm = colors.Normalize(vmin=0, vmax=9)\n",
    "    n_train = len(task['train'])\n",
    "    fig, axs = plt.subplots(n_train+1, 2, figsize=(10, 10))\n",
    "    for i in range(n_train):\n",
    "        axs[i, 0].imshow(task['train'][i]['input'], cmap=cmap, norm=norm)\n",
    "        axs[i, 0].axis('off')\n",
    "        axs[i, 0].set_title('Train Input')\n",
    "        axs[i, 1].imshow(task['train'][i]['output'], cmap=cmap, norm=norm)\n",
    "        axs[i, 1].axis('off')\n",
    "        axs[i, 1].set_title('Train Output')\n",
    "    axs[n_train, 0].imshow(task['test'][0]['input'], cmap=cmap, norm=norm)\n",
    "    axs[n_train, 0].axis('off')\n",
    "    axs[n_train, 0].set_title('Test Input')\n",
    "    axs[n_train, 1].imshow(task['test'][0]['output'], cmap=cmap, norm=norm)\n",
    "    axs[n_train, 1].axis('off')\n",
    "    axs[n_train, 1].set_title('Test Output')\n",
    "    plt.tight_layout()\n",
    "    plt.show()\n",
    "    \n",
    "def plot_grid(grid):\n",
    "    \"\"\"\n",
    "    Plots a single grid\n",
    "    \"\"\"\n",
    "    norm = colors.Normalize(vmin=0, vmax=9)\n",
    "    fig = plt.figure(figsize=(6, 6))\n",
    "    plt.imshow(grid, cmap=cmap, norm=norm)\n",
    "    plt.axis('off')\n",
    "    plt.tight_layout()\n",
    "    plt.show()\n",
    "    \n",
    "def plot_grids(grids):\n",
    "    \"\"\"\n",
    "    Plots a list of grids\n",
    "    \"\"\"\n",
    "    n_grids = len(grids)\n",
    "    norm = colors.Normalize(vmin=0, vmax=9)\n",
    "    fig, axs = plt.subplots(1, n_grids, figsize=(10, 10))\n",
    "    for i in range(n_grids):\n",
    "        axs[i].imshow(grids[i], cmap=cmap, norm=norm)\n",
    "        axs[i].axis('off')\n",
    "    plt.tight_layout()\n",
    "    plt.show()"
   ]
  },
  {
   "cell_type": "code",
   "execution_count": 4,
   "metadata": {},
   "outputs": [
    {
     "data": {
      "image/png": "[encoded data removed]",
      "text/plain": [
       "<Figure size 720x720 with 8 Axes>"
      ]
     },
     "metadata": {
      "needs_background": "light"
     },
     "output_type": "display_data"
    }
   ],
   "source": [
    "plot_task(task)"
   ]
  },
  {
   "cell_type": "code",
   "execution_count": 5,
   "metadata": {},
   "outputs": [],
   "source": [
    "train = task['train']\n",
    "\n",
    "def extract_io_pairs(task):\n",
    "    train = task['train']\n",
    "    test = task['test']\n",
    "    n_train = len(train)\n",
    "    n_test = len(test)\n",
    "    \n",
    "    train_inputs = np.array([train[i]['input'] for i in range(n_train)])\n",
    "    train_outputs = np.array([train[i]['output'] for i in range(n_train)])\n",
    "    test_inputs = np.array([test[i]['input'] for i in range(n_test)])\n",
    "    test_outputs = np.array([test[i]['output'] for i in range(n_test)])\n",
    "    \n",
    "    return train_inputs, train_outputs, test_inputs, test_outputs\n",
    "    \n",
    "train_inputs, train_outputs, test_inputs, test_outputs = extract_io_pairs(task)"
   ]
  },
  {
   "cell_type": "code",
   "execution_count": 71,
   "metadata": {},
   "outputs": [],
   "source": [
    "def change_color_grids(grids, input_color, output_color):\n",
    "    \"\"\"Changes the color of a set of grids\"\"\"\n",
    "    new_grids = grids.copy()\n",
    "    for grid in new_grids:\n",
    "        grid[grid == input_color] = output_color\n",
    "    return new_grids"
   ]
  },
  {
   "cell_type": "code",
   "execution_count": 7,
   "metadata": {},
   "outputs": [],
   "source": [
    "# primitives to find dividers\n",
    "# TODO: could probably separate out the functions of detecting dividers and parsing out objects\n",
    "def detect_divider(grid, divider_color, divider_type):\n",
    "    \"\"\"Function that returns a set of indices for a given divider type\"\"\"\n",
    "    dividers = []\n",
    "    n_rows = grid.shape[0]\n",
    "    n_cols = grid.shape[1]\n",
    "    if divider_type == \"vertical\":\n",
    "        for i in range(n_cols):\n",
    "            if (grid[:, i] == divider_color).all():\n",
    "                dividers.append(i)\n",
    "    elif divider_type == \"horizontal\":\n",
    "        for i in range(n_rows):\n",
    "            if (grid[i, :] == divider_color).all():\n",
    "                dividers.append(i)\n",
    "            \n",
    "    return dividers\n",
    "\n",
    "def vertical_divider_split(grid, divider_color):\n",
    "    \"\"\"\n",
    "    Looks for vertical dividers in a grid and returns a list\n",
    "    with separate objects in an array. Assumes the color of the divider\n",
    "    is known\n",
    "    \"\"\"\n",
    "    objects = []\n",
    "    dividers = detect_divider(grid, divider_color, divider_type=\"vertical\")\n",
    "    \n",
    "    curr_idx = 0\n",
    "    for divider in dividers:\n",
    "        objects.append(grid[:, curr_idx:divider])  # append each object\n",
    "        curr_idx = divider + 1\n",
    "    objects.append(grid[:, curr_idx:])  # append last object\n",
    "    \n",
    "    return objects\n",
    "\n",
    "def horizontal_divider_split(grid, divider_color):\n",
    "    \"\"\"\n",
    "    Looks for horizontal dividers in a grid and returns a list\n",
    "    with separate objects in an array. Assumes the color of the divider\n",
    "    is known\n",
    "    \"\"\"\n",
    "    objects = []\n",
    "    dividers = detect_divider(grid, divider_color, divider_type=\"horizontal\")\n",
    "    \n",
    "    curr_idx = 0\n",
    "    for divider in dividers:\n",
    "        objects.append(grid[curr_idx:divider, :]) # append each object\n",
    "        curr_idx = divider + 1\n",
    "    objects.append(grid[curr_idx:, :])  # append last object\n",
    "    \n",
    "    return objects"
   ]
  },
  {
   "cell_type": "code",
   "execution_count": 8,
   "metadata": {},
   "outputs": [],
   "source": [
    "# logical operations\n",
    "def logical_and(grids, foreground, background=0):\n",
    "    # performs a logical and operation between two grids\n",
    "    new_grid = np.zeros_like(grids[0])\n",
    "    logical_mask = np.logical_and(grids[0], grids[1])\n",
    "    new_grid[logical_mask] = foreground\n",
    "    new_grid[np.invert(logical_mask)] = background\n",
    "    return new_grid\n",
    "\n",
    "def logical_or(grids, foreground, background=0):\n",
    "    # performs a logical and operation between two grids\n",
    "    new_grid = np.zeros_like(grids[0])\n",
    "    logical_mask = np.logical_or(grids[0], grids[1])\n",
    "    new_grid[logical_mask] = foreground\n",
    "    new_grid[np.invert(logical_mask)] = background\n",
    "    return new_grid\n",
    "\n",
    "def logical_xor(grids, foreground, background=0):\n",
    "    # performs a logical and operation between two grids\n",
    "    new_grid = np.zeros_like(grids[0])\n",
    "    logical_mask = np.logical_xor(grids[0], grids[1])\n",
    "    new_grid[logical_mask] = foreground\n",
    "    new_grid[np.invert(logical_mask)] = background\n",
    "    return new_grid\n",
    "\n",
    "def logical_not(grid, foreground, background=0):\n",
    "    # performs a logical and operation between two grids\n",
    "    new_grid = np.zeros_like(grid)\n",
    "    logical_mask = np.logical_not(grid)\n",
    "    new_grid[logical_mask] = foreground\n",
    "    new_grid[np.invert(logical_mask)] = background\n",
    "    return new_grid"
   ]
  },
  {
   "cell_type": "code",
   "execution_count": 9,
   "metadata": {},
   "outputs": [],
   "source": [
    "# detect foreground and background colors (using heuristics)\n",
    "def detect_background_color(input_grids, output_grids):\n",
    "    # check for \n",
    "    # TODO: also consider returning a probability distribution?\n",
    "    return black\n",
    "\n",
    "def detect_foreground_color(input_grids, output_grids):\n",
    "    return blue"
   ]
  },
  {
   "cell_type": "code",
   "execution_count": 10,
   "metadata": {},
   "outputs": [],
   "source": [
    "def scale(grid, size):\n",
    "    \"\"\"Scales a grid by the amount specified in size\"\"\"\n",
    "    n_rows = grid.shape[0]\n",
    "    n_cols = grid.shape[1]\n",
    "    new_grid = np.zeros((n_rows*size, n_cols*size))\n",
    "    for i in range(n_rows):\n",
    "        for j in range(n_cols):\n",
    "            new_grid[(i*size):((i+1)*size), (j*size):(j+1)*size] = grid[i, j]\n",
    "    return new_grid"
   ]
  },
  {
   "cell_type": "code",
   "execution_count": 11,
   "metadata": {},
   "outputs": [
    {
     "data": {
      "image/png": "[encoded data removed]",
      "text/plain": [
       "<Figure size 720x720 with 2 Axes>"
      ]
     },
     "metadata": {
      "needs_background": "light"
     },
     "output_type": "display_data"
    },
    {
     "name": "stdout",
     "output_type": "stream",
     "text": [
      "(9, 9)\n"
     ]
    },
    {
     "data": {
      "image/png": "[encoded data removed]",
      "text/plain": [
       "<Figure size 432x432 with 1 Axes>"
      ]
     },
     "metadata": {
      "needs_background": "light"
     },
     "output_type": "display_data"
    },
    {
     "data": {
      "image/png": "[encoded data removed]",
      "text/plain": [
       "<Figure size 432x432 with 1 Axes>"
      ]
     },
     "metadata": {
      "needs_background": "light"
     },
     "output_type": "display_data"
    }
   ],
   "source": [
    "# example of detecting objects based on divider and then applying a logical operation, and a change color operation\n",
    "objects = vertical_divider_split(train_inputs[0], divider_color=grey)\n",
    "plot_grids(objects)\n",
    "predicted_output = logical_and(objects, foreground=red)\n",
    "print(scale(predicted_output, 3).shape)\n",
    "plot_grid(predicted_output)\n",
    "plot_grid(train_outputs[0])"
   ]
  },
  {
   "cell_type": "code",
   "execution_count": 46,
   "metadata": {},
   "outputs": [],
   "source": [
    "# solving grid f76d97a5.json with change_color\n",
    "task_file = os.path.join(training_path, 'f76d97a5.json')\n",
    "\n",
    "with open(task_file, 'r') as f:\n",
    "    task = json.load(f)\n",
    "    \n",
    "train_inputs, train_outputs, test_inputs, test_outputs = extract_io_pairs(task)"
   ]
  },
  {
   "cell_type": "code",
   "execution_count": 26,
   "metadata": {},
   "outputs": [
    {
     "data": {
      "image/png": "[encoded data removed]",
      "text/plain": [
       "<Figure size 720x720 with 8 Axes>"
      ]
     },
     "metadata": {
      "needs_background": "light"
     },
     "output_type": "display_data"
    }
   ],
   "source": [
    "plot_task(task)"
   ]
  },
  {
   "cell_type": "code",
   "execution_count": 77,
   "metadata": {},
   "outputs": [],
   "source": [
    "def change_color(grid, input_color, output_color):\n",
    "    \"\"\"Changes the color of a single grid\"\"\"\n",
    "    new_grid = np.asarray(grid[:])\n",
    "    new_grid[new_grid == input_color] = output_color\n",
    "    return new_grid"
   ]
  },
  {
   "cell_type": "code",
   "execution_count": 81,
   "metadata": {},
   "outputs": [
    {
     "data": {
      "image/png": "[encoded data removed]",
      "text/plain": [
       "<Figure size 720x720 with 2 Axes>"
      ]
     },
     "metadata": {
      "needs_background": "light"
     },
     "output_type": "display_data"
    }
   ],
   "source": [
    "predicted_output = change_color(change_color(train_inputs[0],4,0),5,4)\n",
    "plot_grids([predicted_output, train_outputs[0]])"
   ]
  },
  {
   "cell_type": "code",
   "execution_count": 82,
   "metadata": {},
   "outputs": [],
   "source": [
    "# solving grid f5b8619d.json\n",
    "task_file = os.path.join(training_path, 'f5b8619d.json')\n",
    "\n",
    "with open(task_file, 'r') as f:\n",
    "    task = json.load(f)\n",
    "    \n",
    "train_inputs, train_outputs, test_inputs, test_outputs = extract_io_pairs(task)"
   ]
  },
  {
   "cell_type": "code",
   "execution_count": 83,
   "metadata": {},
   "outputs": [
    {
     "data": {
      "image/png": "[encoded data removed]",
      "text/plain": [
       "<Figure size 720x720 with 8 Axes>"
      ]
     },
     "metadata": {
      "needs_background": "light"
     },
     "output_type": "display_data"
    }
   ],
   "source": [
    "plot_task(task)"
   ]
  },
  {
   "cell_type": "code",
   "execution_count": 87,
   "metadata": {},
   "outputs": [],
   "source": [
    "def copy_paste_full(grid, count):\n",
    "    \"\"\"\"\n",
    "    makes copies of original in both horizontal and vertical directions -- make horizontal and vertical extensions later\n",
    "    \"\"\"\"\n",
    "    grid = np.asarray(grid)\n",
    "    nrows = len(grid[:,0])\n",
    "    ncols = len(grid[0,:])\n",
    "    new_grid = np.zeros((nrows*count,ncols*count))\n",
    "    for i in np.arange(0,nrows*count)[::nrows]:\n",
    "        for j in np.arange(0,ncols*count)[::ncols]:\n",
    "            new_grid[i:i+nrows,j:j+ncols] = grid\n",
    "    return new_grid"
   ]
  },
  {
   "cell_type": "code",
   "execution_count": 94,
   "metadata": {},
   "outputs": [
    {
     "data": {
      "image/png": "[encoded data removed]",
      "text/plain": [
       "<Figure size 432x432 with 1 Axes>"
      ]
     },
     "metadata": {
      "needs_background": "light"
     },
     "output_type": "display_data"
    }
   ],
   "source": [
    "copied = copy_paste_full(train_inputs[0],2)\n",
    "plot_grid(copied)"
   ]
  },
  {
   "cell_type": "code",
   "execution_count": 96,
   "metadata": {},
   "outputs": [],
   "source": [
    "def extend_columns(grid, color):\n",
    "    \"\"\"\n",
    "    extend any column that has a non black pixel with color argument\n",
    "    \"\"\"\n",
    "    grid = np.asarray(grid)\n",
    "    new_grid = grid[:]\n",
    "    ncols = len(grid[0,:])\n",
    "    for col in range(ncols):\n",
    "        if np.any(grid[:,col]):\n",
    "            grid[:,col][grid[:,col]==0] = color\n",
    "    return grid"
   ]
  },
  {
   "cell_type": "code",
   "execution_count": 95,
   "metadata": {},
   "outputs": [
    {
     "data": {
      "image/png": "[encoded data removed]",
      "text/plain": [
       "<Figure size 432x432 with 1 Axes>"
      ]
     },
     "metadata": {
      "needs_background": "light"
     },
     "output_type": "display_data"
    }
   ],
   "source": [
    "plot_grid(extend_columns(copied,8))"
   ]
  },
  {
   "cell_type": "code",
   "execution_count": 97,
   "metadata": {},
   "outputs": [],
   "source": [
    "# solving grid f8ff0b80.json\n",
    "task_file = os.path.join(training_path, 'f8ff0b80.json')\n",
    "\n",
    "with open(task_file, 'r') as f:\n",
    "    task = json.load(f)\n",
    "    \n",
    "train_inputs, train_outputs, test_inputs, test_outputs = extract_io_pairs(task)"
   ]
  },
  {
   "cell_type": "code",
   "execution_count": 98,
   "metadata": {},
   "outputs": [
    {
     "data": {
      "image/png": "[encoded data removed]",
      "text/plain": [
       "<Figure size 720x720 with 8 Axes>"
      ]
     },
     "metadata": {
      "needs_background": "light"
     },
     "output_type": "display_data"
    }
   ],
   "source": [
    "plot_task(task)"
   ]
  },
  {
   "cell_type": "code",
   "execution_count": 100,
   "metadata": {},
   "outputs": [],
   "source": [
    "def pixel_count_by_color(grid):\n",
    "    \"\"\"\n",
    "    returns a dictionary of color keys and count values\n",
    "    \"\"\"\n",
    "    grid = np.asarray(grid)\n",
    "    color_dict = dict.fromkeys(np.arange(0,10),0)\n",
    "    nrows = len(grid[0,:])\n",
    "    ncols = len(grid[:,0])\n",
    "    for i in range(nrows):\n",
    "        for j in range(ncols):\n",
    "            if grid[i][j] != 0:\n",
    "                color_dict[grid[i][j]] += 1\n",
    "    return color_dict"
   ]
  },
  {
   "cell_type": "code",
   "execution_count": 115,
   "metadata": {},
   "outputs": [],
   "source": [
    "def decreasing_stack(color_dictionary, length):\n",
    "    \"\"\"\n",
    "    returns a length by 1 grid based on decreasing values in color dictionary\n",
    "    \"\"\"\n",
    "    grid = np.zeros((length,1))\n",
    "    k = Counter(color_dictionary)\n",
    "    largest = k.most_common(length)\n",
    "    for i in range(length):\n",
    "        grid[i][0] = largest[i][0]\n",
    "    return grid"
   ]
  },
  {
   "cell_type": "code",
   "execution_count": 114,
   "metadata": {},
   "outputs": [
    {
     "data": {
      "image/png": "[encoded data removed]",
      "text/plain": [
       "<Figure size 432x432 with 1 Axes>"
      ]
     },
     "metadata": {
      "needs_background": "light"
     },
     "output_type": "display_data"
    }
   ],
   "source": [
    "color_dictionary = pixel_count_by_color(train_inputs[0])\n",
    "plot_grid(decreasing_stack(color_dictionary,3))"
   ]
  },
  {
   "cell_type": "code",
   "execution_count": 145,
   "metadata": {},
   "outputs": [],
   "source": [
    "# solving grid f25ffba3.json\n",
    "task_file = os.path.join(training_path, 'f25ffba3.json')\n",
    "\n",
    "with open(task_file, 'r') as f:\n",
    "    task = json.load(f)\n",
    "    \n",
    "train_inputs, train_outputs, test_inputs, test_outputs = extract_io_pairs(task)"
   ]
  },
  {
   "cell_type": "code",
   "execution_count": 143,
   "metadata": {},
   "outputs": [
    {
     "data": {
      "image/png": "[encoded data removed]",
      "text/plain": [
       "<Figure size 720x720 with 6 Axes>"
      ]
     },
     "metadata": {
      "needs_background": "light"
     },
     "output_type": "display_data"
    }
   ],
   "source": [
    "plot_task(task)"
   ]
  },
  {
   "cell_type": "code",
   "execution_count": 140,
   "metadata": {},
   "outputs": [],
   "source": [
    "def reflect_xaxis(grid):\n",
    "    \"\"\"\n",
    "    reflects grid across x axis, assumes even number of rows and no deletions\n",
    "    \"\"\"\n",
    "    # why is it editing the original grid?!\n",
    "    grid = np.asarray(grid)\n",
    "    new_grid = grid[:]\n",
    "    nrows = len(grid[:,0])\n",
    "    axis = int(nrows/2)\n",
    "    if np.any(grid[:axis,:]):\n",
    "        new_grid[axis:,:] = np.flipud(new_grid[:axis,:])\n",
    "    else:\n",
    "        new_grid[:axis,:] = np.flipud(new_grid[axis:,:])\n",
    "    return new_grid"
   ]
  },
  {
   "cell_type": "code",
   "execution_count": 147,
   "metadata": {},
   "outputs": [
    {
     "data": {
      "image/png": "[encoded data removed]",
      "text/plain": [
       "<Figure size 432x432 with 1 Axes>"
      ]
     },
     "metadata": {
      "needs_background": "light"
     },
     "output_type": "display_data"
    }
   ],
   "source": [
    "plot_grid(reflect_xaxis(train_inputs[0]))"
   ]
  },
  {
   "cell_type": "code",
   "execution_count": 148,
   "metadata": {},
   "outputs": [
    {
     "data": {
      "image/png": "[encoded data removed]",
      "text/plain": [
       "<Figure size 432x432 with 1 Axes>"
      ]
     },
     "metadata": {
      "needs_background": "light"
     },
     "output_type": "display_data"
    }
   ],
   "source": [
    "plot_grid(train_inputs[0])"
   ]
  },
  {
   "cell_type": "code",
   "execution_count": null,
   "metadata": {},
   "outputs": [],
   "source": []
  }
 ],
 "metadata": {
  "kernelspec": {
   "display_name": "Python 3",
   "language": "python",
   "name": "python3"
  },
  "language_info": {
   "codemirror_mode": {
    "name": "ipython",
    "version": 3
   },
   "file_extension": ".py",
   "mimetype": "text/x-python",
   "name": "python",
   "nbconvert_exporter": "python",
   "pygments_lexer": "ipython3",
   "version": "3.7.4"
  }
 },
 "nbformat": 4,
 "nbformat_minor": 2
}
