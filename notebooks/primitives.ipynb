{
 "cells": [
  {
   "cell_type": "code",
   "execution_count": 116,
   "metadata": {},
   "outputs": [],
   "source": [
    "import numpy as np\n",
    "import pandas as pd\n",
    "\n",
    "import os\n",
    "import json\n",
    "\n",
    "import matplotlib.pyplot as plt\n",
    "from matplotlib import colors\n",
    "import numpy as np"
   ]
  },
  {
   "cell_type": "code",
   "execution_count": 2,
   "metadata": {},
   "outputs": [
    {
     "name": "stdout",
     "output_type": "stream",
     "text": [
      "dict_keys(['train', 'test'])\n"
     ]
    }
   ],
   "source": [
    "training_path = '../data/training'\n",
    "task_file = os.path.join(training_path, '0520fde7.json')\n",
    "\n",
    "with open(task_file, 'r') as f:\n",
    "    task = json.load(f)\n",
    "\n",
    "print(task.keys())"
   ]
  },
  {
   "cell_type": "code",
   "execution_count": 3,
   "metadata": {},
   "outputs": [],
   "source": [
    "# specify colors\n",
    "cmap = colors.ListedColormap(\n",
    "    ['#000000', '#0074D9','#FF4136','#2ECC40','#FFDC00',\n",
    "     '#AAAAAA', '#F012BE', '#FF851B', '#7FDBFF', '#870C25'])\n",
    "\n",
    "black = 0\n",
    "blue = 1\n",
    "red = 2\n",
    "green = 3\n",
    "yellow = 4\n",
    "grey = 5\n",
    "magenta = 6\n",
    "orange = 7\n",
    "light_blue = 8\n",
    "maroon = 9\n",
    "\n",
    "def plot_task(task):\n",
    "    \"\"\"\n",
    "    Plots the first train and test pairs of a specified task,\n",
    "    using same color scheme as the ARC app\n",
    "    \"\"\"\n",
    "    norm = colors.Normalize(vmin=0, vmax=9)\n",
    "    n_train = len(task['train'])\n",
    "    fig, axs = plt.subplots(n_train+1, 2, figsize=(10, 10))\n",
    "    for i in range(n_train):\n",
    "        axs[i, 0].imshow(task['train'][i]['input'], cmap=cmap, norm=norm)\n",
    "        axs[i, 0].axis('off')\n",
    "        axs[i, 0].set_title('Train Input')\n",
    "        axs[i, 1].imshow(task['train'][i]['output'], cmap=cmap, norm=norm)\n",
    "        axs[i, 1].axis('off')\n",
    "        axs[i, 1].set_title('Train Output')\n",
    "    axs[n_train, 0].imshow(task['test'][0]['input'], cmap=cmap, norm=norm)\n",
    "    axs[n_train, 0].axis('off')\n",
    "    axs[n_train, 0].set_title('Test Input')\n",
    "    axs[n_train, 1].imshow(task['test'][0]['output'], cmap=cmap, norm=norm)\n",
    "    axs[n_train, 1].axis('off')\n",
    "    axs[n_train, 1].set_title('Test Output')\n",
    "    plt.tight_layout()\n",
    "    plt.show()\n",
    "    \n",
    "def plot_grid(grid):\n",
    "    \"\"\"\n",
    "    Plots a single grid\n",
    "    \"\"\"\n",
    "    norm = colors.Normalize(vmin=0, vmax=9)\n",
    "    fig = plt.figure(figsize=(6, 6))\n",
    "    plt.imshow(grid, cmap=cmap, norm=norm)\n",
    "    plt.axis('off')\n",
    "    plt.tight_layout()\n",
    "    plt.show()\n",
    "    \n",
    "def plot_grids(grids):\n",
    "    \"\"\"\n",
    "    Plots a list of grids\n",
    "    \"\"\"\n",
    "    n_grids = len(grids)\n",
    "    norm = colors.Normalize(vmin=0, vmax=9)\n",
    "    fig, axs = plt.subplots(1, n_grids, figsize=(10, 10))\n",
    "    for i in range(n_grids):\n",
    "        axs[i].imshow(grids[i], cmap=cmap, norm=norm)\n",
    "        axs[i].axis('off')\n",
    "    plt.tight_layout()\n",
    "    plt.show()"
   ]
  },
  {
   "cell_type": "code",
   "execution_count": 4,
   "metadata": {},
   "outputs": [
    {
     "data": {
      "image/png": "[encoded data removed]",
      "text/plain": [
       "<Figure size 720x720 with 8 Axes>"
      ]
     },
     "metadata": {
      "needs_background": "light"
     },
     "output_type": "display_data"
    }
   ],
   "source": [
    "plot_task(task)"
   ]
  },
  {
   "cell_type": "code",
   "execution_count": 5,
   "metadata": {},
   "outputs": [],
   "source": [
    "train = task['train']\n",
    "\n",
    "def extract_io_pairs(task):\n",
    "    train = task['train']\n",
    "    test = task['test']\n",
    "    n_train = len(train)\n",
    "    n_test = len(test)\n",
    "    \n",
    "    train_inputs = np.array([train[i]['input'] for i in range(n_train)])\n",
    "    train_outputs = np.array([train[i]['output'] for i in range(n_train)])\n",
    "    test_inputs = np.array([test[i]['input'] for i in range(n_test)])\n",
    "    test_outputs = np.array([test[i]['output'] for i in range(n_test)])\n",
    "    \n",
    "    return train_inputs, train_outputs, test_inputs, test_outputs\n",
    "    \n",
    "train_inputs, train_outputs, test_inputs, test_outputs = extract_io_pairs(task)"
   ]
  },
  {
   "cell_type": "code",
   "execution_count": 71,
   "metadata": {},
   "outputs": [],
   "source": [
    "def change_color_grids(grids, input_color, output_color):\n",
    "    \"\"\"Changes the color of a set of grids\"\"\"\n",
    "    new_grids = grids.copy()\n",
    "    for grid in new_grids:\n",
    "        grid[grid == input_color] = output_color\n",
    "    return new_grids"
   ]
  },
  {
   "cell_type": "code",
   "execution_count": 7,
   "metadata": {},
   "outputs": [],
   "source": [
    "# primitives to find dividers\n",
    "# TODO: could probably separate out the functions of detecting dividers and parsing out objects\n",
    "def detect_divider(grid, divider_color, divider_type):\n",
    "    \"\"\"Function that returns a set of indices for a given divider type\"\"\"\n",
    "    dividers = []\n",
    "    n_rows = grid.shape[0]\n",
    "    n_cols = grid.shape[1]\n",
    "    if divider_type == \"vertical\":\n",
    "        for i in range(n_cols):\n",
    "            if (grid[:, i] == divider_color).all():\n",
    "                dividers.append(i)\n",
    "    elif divider_type == \"horizontal\":\n",
    "        for i in range(n_rows):\n",
    "            if (grid[i, :] == divider_color).all():\n",
    "                dividers.append(i)\n",
    "            \n",
    "    return dividers\n",
    "\n",
    "def vertical_divider_split(grid, divider_color):\n",
    "    \"\"\"\n",
    "    Looks for vertical dividers in a grid and returns a list\n",
    "    with separate objects in an array. Assumes the color of the divider\n",
    "    is known\n",
    "    \"\"\"\n",
    "    objects = []\n",
    "    dividers = detect_divider(grid, divider_color, divider_type=\"vertical\")\n",
    "    \n",
    "    curr_idx = 0\n",
    "    for divider in dividers:\n",
    "        objects.append(grid[:, curr_idx:divider])  # append each object\n",
    "        curr_idx = divider + 1\n",
    "    objects.append(grid[:, curr_idx:])  # append last object\n",
    "    \n",
    "    return objects\n",
    "\n",
    "def horizontal_divider_split(grid, divider_color):\n",
    "    \"\"\"\n",
    "    Looks for horizontal dividers in a grid and returns a list\n",
    "    with separate objects in an array. Assumes the color of the divider\n",
    "    is known\n",
    "    \"\"\"\n",
    "    objects = []\n",
    "    dividers = detect_divider(grid, divider_color, divider_type=\"horizontal\")\n",
    "    \n",
    "    curr_idx = 0\n",
    "    for divider in dividers:\n",
    "        objects.append(grid[curr_idx:divider, :]) # append each object\n",
    "        curr_idx = divider + 1\n",
    "    objects.append(grid[curr_idx:, :])  # append last object\n",
    "    \n",
    "    return objects"
   ]
  },
  {
   "cell_type": "code",
   "execution_count": 8,
   "metadata": {},
   "outputs": [],
   "source": [
    "# logical operations\n",
    "def logical_and(grids, foreground, background=0):\n",
    "    # performs a logical and operation between two grids\n",
    "    new_grid = np.zeros_like(grids[0])\n",
    "    logical_mask = np.logical_and(grids[0], grids[1])\n",
    "    new_grid[logical_mask] = foreground\n",
    "    new_grid[np.invert(logical_mask)] = background\n",
    "    return new_grid\n",
    "\n",
    "def logical_or(grids, foreground, background=0):\n",
    "    # performs a logical and operation between two grids\n",
    "    new_grid = np.zeros_like(grids[0])\n",
    "    logical_mask = np.logical_or(grids[0], grids[1])\n",
    "    new_grid[logical_mask] = foreground\n",
    "    new_grid[np.invert(logical_mask)] = background\n",
    "    return new_grid\n",
    "\n",
    "def logical_xor(grids, foreground, background=0):\n",
    "    # performs a logical and operation between two grids\n",
    "    new_grid = np.zeros_like(grids[0])\n",
    "    logical_mask = np.logical_xor(grids[0], grids[1])\n",
    "    new_grid[logical_mask] = foreground\n",
    "    new_grid[np.invert(logical_mask)] = background\n",
    "    return new_grid\n",
    "\n",
    "def logical_not(grid, foreground, background=0):\n",
    "    # performs a logical and operation between two grids\n",
    "    new_grid = np.zeros_like(grid)\n",
    "    logical_mask = np.logical_not(grid)\n",
    "    new_grid[logical_mask] = foreground\n",
    "    new_grid[np.invert(logical_mask)] = background\n",
    "    return new_grid"
   ]
  },
  {
   "cell_type": "code",
   "execution_count": 9,
   "metadata": {},
   "outputs": [],
   "source": [
    "# detect foreground and background colors (using heuristics)\n",
    "def detect_background_color(input_grids, output_grids):\n",
    "    # check for \n",
    "    # TODO: also consider returning a probability distribution?\n",
    "    return black\n",
    "\n",
    "def detect_foreground_color(input_grids, output_grids):\n",
    "    return blue"
   ]
  },
  {
   "cell_type": "code",
   "execution_count": 10,
   "metadata": {},
   "outputs": [],
   "source": [
    "def scale(grid, size):\n",
    "    \"\"\"Scales a grid by the amount specified in size\"\"\"\n",
    "    n_rows = grid.shape[0]\n",
    "    n_cols = grid.shape[1]\n",
    "    new_grid = np.zeros((n_rows*size, n_cols*size))\n",
    "    for i in range(n_rows):\n",
    "        for j in range(n_cols):\n",
    "            new_grid[(i*size):((i+1)*size), (j*size):(j+1)*size] = grid[i, j]\n",
    "    return new_grid"
   ]
  },
  {
   "cell_type": "code",
   "execution_count": 11,
   "metadata": {},
   "outputs": [
    {
     "data": {
      "image/png": "[encoded data removed]",
      "text/plain": [
       "<Figure size 720x720 with 2 Axes>"
      ]
     },
     "metadata": {
      "needs_background": "light"
     },
     "output_type": "display_data"
    },
    {
     "name": "stdout",
     "output_type": "stream",
     "text": [
      "(9, 9)\n"
     ]
    },
    {
     "data": {
      "image/png": "[encoded data removed]",
      "text/plain": [
       "<Figure size 432x432 with 1 Axes>"
      ]
     },
     "metadata": {
      "needs_background": "light"
     },
     "output_type": "display_data"
    },
    {
     "data": {
      "image/png": "[encoded data removed]",
      "text/plain": [
       "<Figure size 432x432 with 1 Axes>"
      ]
     },
     "metadata": {
      "needs_background": "light"
     },
     "output_type": "display_data"
    }
   ],
   "source": [
    "# example of detecting objects based on divider and then applying a logical operation, and a change color operation\n",
    "objects = vertical_divider_split(train_inputs[0], divider_color=grey)\n",
    "plot_grids(objects)\n",
    "predicted_output = logical_and(objects, foreground=red)\n",
    "print(scale(predicted_output, 3).shape)\n",
    "plot_grid(predicted_output)\n",
    "plot_grid(train_outputs[0])"
   ]
  }
 ],
 "metadata": {
  "kernelspec": {
   "display_name": "Python 3",
   "language": "python",
   "name": "python3"
  },
  "language_info": {
   "codemirror_mode": {
    "name": "ipython",
    "version": 3
   },
   "file_extension": ".py",
   "mimetype": "text/x-python",
   "name": "python",
   "nbconvert_exporter": "python",
   "pygments_lexer": "ipython3",
   "version": "3.7.4"
  }
 },
 "nbformat": 4,
 "nbformat_minor": 2
}
